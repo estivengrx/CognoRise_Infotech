{
  "cells": [
    {
      "cell_type": "markdown",
      "metadata": {
        "id": "-TFcof3qc6sc"
      },
      "source": [
        "# Task 7: Shopper sentiments\n",
        "\n",
        "- The ShopperSentiments dataset, comprising over 250,000 customer reviews on\n",
        "TeePublic, provides key insights for online fashion retail. Attributes include\n",
        "reviewer_id, store_location, date, title, review, and review-label (rating 1 to 5).\n",
        "- With unique features like geospatial coordinates and temporal data, it's a valuable\n",
        "resource for sentiment analysis, geospatial patterns, temporal trends, and review\n",
        "categorization.\n",
        "- TeePublic's diverse fashion collection is the backdrop for understanding customer\n",
        "sentiments and preferences."
      ]
    },
    {
      "cell_type": "markdown",
      "metadata": {
        "id": "MEMuVLWcc6sf"
      },
      "source": [
        "# Shopper Sentiments dataset\n",
        "\n",
        "## Description\n",
        "This extensive dataset, comprised of over 250,000 customer reviews, offers a detailed exploration of customer experiences on TeePublic, an online platform renowned for its diverse collection of fashion items. The dataset spans crucial information, including `reviewer_id`, `store_location`, `latitude`, `longitude`, `date`, `month`, `year`, `title`, `review`, and the `review-label` indicating a rating on a scale of 1 to 5.\n",
        "\n",
        "## Columns description\n",
        "`reviewer_id`: A unique identifier for each reviewer, ensuring anonymity and privacy.\n",
        "`store_location`: Geographic information specifying the location of the TeePublic fashion store.\n",
        "`latitude`: The latitude coordinate of the store's location, providing precise geospatial data.\n",
        "`longitude`: The longitude coordinate of the store's location, offering detailed geographic insights.\n",
        "`date`: The specific date when the review was posted, enabling temporal analysis.\n",
        "`month`: The month in which the review was posted, facilitating monthly trends exploration.\n",
        "`year`: The year of the review, allowing for yearly analysis and trend identification.\n",
        "`title`: The title associated with each review, capturing succinct sentiments or key points.\n",
        "`review`: The textual content of the review, presenting detailed feedback from customers.\n",
        "`review-label`: The reviewer's rating on a scale from 1 to 5, providing a quantitative measure of satisfaction.\n",
        "\n",
        "## Store where data came from information:\n",
        "TeePublic is a prominent online platform celebrated for its extensive collection of fashion items, including apparel, accessories, and more. This dataset, comprising reviews from the fashion store, serves as a valuable resource to understand customer sentiments and preferences within the dynamic landscape of online fashion retail."
      ]
    },
    {
      "cell_type": "code",
      "execution_count": 4,
      "metadata": {
        "id": "no16q_ywc6sg"
      },
      "outputs": [],
      "source": [
        "import numpy as np\n",
        "import pandas as pd\n",
        "import matplotlib.pyplot as plt\n",
        "import seaborn as sns\n",
        "import plotly.express as px\n",
        "from ydata_profiling import ProfileReport\n",
        "from sklearn.feature_extraction.text import TfidfVectorizer\n",
        "from sklearn.model_selection import train_test_split, RandomizedSearchCV\n",
        "from sklearn.metrics import classification_report, confusion_matrix, roc_curve, accuracy_score, roc_auc_score\n",
        "from sklearn.pipeline import Pipeline\n",
        "from sklearn.ensemble import RandomForestClassifier\n",
        "from sklearn.compose import ColumnTransformer\n",
        "from warnings import filterwarnings\n",
        "import nltk\n",
        "from nltk.corpus import stopwords\n",
        "from nltk.tokenize import word_tokenize\n",
        "\n",
        "filterwarnings('ignore')\n",
        "%matplotlib inline"
      ]
    },
    {
      "cell_type": "markdown",
      "metadata": {
        "id": "ADKia-4-c6si"
      },
      "source": [
        "Retrieving data from Kaggle API, (using local machine)"
      ]
    },
    {
      "cell_type": "code",
      "execution_count": 5,
      "metadata": {
        "id": "zp6NSLZpc6si"
      },
      "outputs": [
        {
          "data": {
            "text/html": [
              "<div>\n",
              "<style scoped>\n",
              "    .dataframe tbody tr th:only-of-type {\n",
              "        vertical-align: middle;\n",
              "    }\n",
              "\n",
              "    .dataframe tbody tr th {\n",
              "        vertical-align: top;\n",
              "    }\n",
              "\n",
              "    .dataframe thead th {\n",
              "        text-align: right;\n",
              "    }\n",
              "</style>\n",
              "<table border=\"1\" class=\"dataframe\">\n",
              "  <thead>\n",
              "    <tr style=\"text-align: right;\">\n",
              "      <th></th>\n",
              "      <th>reviewer_id</th>\n",
              "      <th>store_location</th>\n",
              "      <th>latitude</th>\n",
              "      <th>longitude</th>\n",
              "      <th>date</th>\n",
              "      <th>month</th>\n",
              "      <th>year</th>\n",
              "      <th>title</th>\n",
              "      <th>review</th>\n",
              "      <th>review-label</th>\n",
              "    </tr>\n",
              "  </thead>\n",
              "  <tbody>\n",
              "    <tr>\n",
              "      <th>0</th>\n",
              "      <td>0.0</td>\n",
              "      <td>US</td>\n",
              "      <td>37.090240</td>\n",
              "      <td>-95.712891</td>\n",
              "      <td>2023</td>\n",
              "      <td>6</td>\n",
              "      <td>2015 00:00:00</td>\n",
              "      <td>Great help with lost order</td>\n",
              "      <td>I had an order that was lost in transit. When ...</td>\n",
              "      <td>5</td>\n",
              "    </tr>\n",
              "    <tr>\n",
              "      <th>1</th>\n",
              "      <td>1.0</td>\n",
              "      <td>US</td>\n",
              "      <td>37.090240</td>\n",
              "      <td>-95.712891</td>\n",
              "      <td>2023</td>\n",
              "      <td>6</td>\n",
              "      <td>2024 00:00:00</td>\n",
              "      <td>I ordered the wrong size tee and hadï¿½ï¿½ï¿½</td>\n",
              "      <td>I ordered the wrong size tee and had difficult...</td>\n",
              "      <td>5</td>\n",
              "    </tr>\n",
              "    <tr>\n",
              "      <th>2</th>\n",
              "      <td>2.0</td>\n",
              "      <td>US</td>\n",
              "      <td>37.090240</td>\n",
              "      <td>-95.712891</td>\n",
              "      <td>2023</td>\n",
              "      <td>6</td>\n",
              "      <td>2017 00:00:00</td>\n",
              "      <td>These guys offer the best customerï¿½ï¿½ï¿½</td>\n",
              "      <td>These guys offer the best customer service in ...</td>\n",
              "      <td>5</td>\n",
              "    </tr>\n",
              "    <tr>\n",
              "      <th>3</th>\n",
              "      <td>3.0</td>\n",
              "      <td>US</td>\n",
              "      <td>37.090240</td>\n",
              "      <td>-95.712891</td>\n",
              "      <td>2023</td>\n",
              "      <td>6</td>\n",
              "      <td>2024 00:00:00</td>\n",
              "      <td>Good Stuff</td>\n",
              "      <td>Looked for an obscure phrase on a shirt. Teepu...</td>\n",
              "      <td>5</td>\n",
              "    </tr>\n",
              "    <tr>\n",
              "      <th>4</th>\n",
              "      <td>4.0</td>\n",
              "      <td>CA</td>\n",
              "      <td>56.130366</td>\n",
              "      <td>-106.346771</td>\n",
              "      <td>2023</td>\n",
              "      <td>6</td>\n",
              "      <td>2023 00:00:00</td>\n",
              "      <td>My order arrived in a good timelyï¿½ï¿½ï¿½</td>\n",
              "      <td>My order arrived in a good timely fashion &amp; th...</td>\n",
              "      <td>4</td>\n",
              "    </tr>\n",
              "  </tbody>\n",
              "</table>\n",
              "</div>"
            ],
            "text/plain": [
              "   reviewer_id store_location   latitude   longitude  date  month  \\\n",
              "0          0.0             US  37.090240  -95.712891  2023      6   \n",
              "1          1.0             US  37.090240  -95.712891  2023      6   \n",
              "2          2.0             US  37.090240  -95.712891  2023      6   \n",
              "3          3.0             US  37.090240  -95.712891  2023      6   \n",
              "4          4.0             CA  56.130366 -106.346771  2023      6   \n",
              "\n",
              "            year                                          title  \\\n",
              "0  2015 00:00:00                     Great help with lost order   \n",
              "1  2024 00:00:00  I ordered the wrong size tee and hadï¿½ï¿½ï¿½   \n",
              "2  2017 00:00:00    These guys offer the best customerï¿½ï¿½ï¿½   \n",
              "3  2024 00:00:00                                     Good Stuff   \n",
              "4  2023 00:00:00     My order arrived in a good timelyï¿½ï¿½ï¿½   \n",
              "\n",
              "                                              review  review-label  \n",
              "0  I had an order that was lost in transit. When ...             5  \n",
              "1  I ordered the wrong size tee and had difficult...             5  \n",
              "2  These guys offer the best customer service in ...             5  \n",
              "3  Looked for an obscure phrase on a shirt. Teepu...             5  \n",
              "4  My order arrived in a good timely fashion & th...             4  "
            ]
          },
          "execution_count": 5,
          "metadata": {},
          "output_type": "execute_result"
        }
      ],
      "source": [
        "# # Local PC data retrieving\n",
        "# from kaggle.api.kaggle_api_extended import KaggleApi\n",
        "\n",
        "# # Initialize the Kaggle API\n",
        "# api = KaggleApi()\n",
        "# api.authenticate()\n",
        "\n",
        "# # Download the dataset\n",
        "# api.dataset_download_files('nelgiriyewithana/shoppersentiments', path='D:/Estiven/Datos/Proyectos/CognoRise_Infotech/data/raw', unzip=True)\n",
        "\n",
        "# Read the data as a pandas dataframe\n",
        "df = pd.read_csv(\"D:/Estiven/Datos/Proyectos/CognoRise_Infotech/data/raw/TeePublic_review.csv\", encoding='latin1')\n",
        "df.head()"
      ]
    },
    {
      "cell_type": "markdown",
      "metadata": {
        "id": "d-9bCFV8c6sj"
      },
      "source": [
        "Retrieving data from Kaggle API, (using Google Colab)"
      ]
    },
    {
      "cell_type": "code",
      "execution_count": 6,
      "metadata": {
        "id": "ogcTFc0xc6sj"
      },
      "outputs": [],
      "source": [
        "# # Google Colab data retrieving\n",
        "# from google.colab import files\n",
        "\n",
        "# # Uploading the Kaggle API key (kaggle.json) to Colab\n",
        "# files.upload()\n",
        "\n",
        "# # Move the uploaded file to the required location of Colab\n",
        "# !mkdir -p ~/.kaggle\n",
        "# !mv kaggle.json ~/.kaggle/\n",
        "# !chmod 600 ~/.kaggle/kaggle.json\n",
        "# !kaggle datasets download -d nelgiriyewithana/shoppersentiments #dataset download\n",
        "# !unzip -q shoppersentiments.zip #unzipping the data\n",
        "\n",
        "# df = pd.read_csv(\"TeePublic_review.csv\", encoding='latin1') #reading data as pandas dataframe"
      ]
    },
    {
      "cell_type": "markdown",
      "metadata": {
        "id": "tsJhYIQGc6sk"
      },
      "source": [
        "# Data cleaning and overview of the data"
      ]
    },
    {
      "cell_type": "markdown",
      "metadata": {
        "id": "p-Df4f9ic6sk"
      },
      "source": [
        "ProfileReport of the data"
      ]
    },
    {
      "cell_type": "markdown",
      "metadata": {
        "id": "ipY04BIpc6sk"
      },
      "source": [
        "From this firts ProfileReport it can be concluded the following:\n",
        "- The dataset is mid-high dimensionality with more than $278.000$ rows and 10 predictor variables.\n",
        "- The data has nulls, specifically in the `review` column, with more than $11 \\%$ nulls of total data.\n",
        "- `reviewer_id` is an useless column, it has to be deleted.\n",
        "- Sells reviews increase in month 12, apparently December.\n",
        "- Most of the reviews are from US products.\n",
        "- The `review` and `title` variables have many stopwords and they are the most common as excpected, it has to be made a treatment of this for sentiment analysis.\n",
        "- Most reviews are good.\n",
        "- The `review` and `title` variables are the ones with null data."
      ]
    },
    {
      "cell_type": "code",
      "execution_count": 7,
      "metadata": {
        "id": "dwwFvrV0c6sk"
      },
      "outputs": [],
      "source": [
        "# report = ProfileReport(df)\n",
        "# report"
      ]
    },
    {
      "cell_type": "markdown",
      "metadata": {
        "id": "bVgKPylWc6sl"
      },
      "source": [
        "Analysis of unique values"
      ]
    },
    {
      "cell_type": "markdown",
      "metadata": {
        "id": "1cwUA53bc6sl"
      },
      "source": [
        "By this analysis it can be concluded that the `year` column has not any relationship with the date-related columns, also by the correlation heatmap given by the ProfileReport, these variables have almost nothing in common and it's weird that in the dataset description it is not mentioned what exactly this column is. Is not the year the review was made because are years more than the present one, (2024), so I decide to eliminate this column based on its unclear proccedence."
      ]
    },
    {
      "cell_type": "code",
      "execution_count": 8,
      "metadata": {
        "colab": {
          "base_uri": "https://localhost:8080/"
        },
        "id": "2mVYCqMKc6sl",
        "outputId": "9dc9b854-111c-4dde-a1a4-2f08027fb8b6"
      },
      "outputs": [
        {
          "name": "stdout",
          "output_type": "stream",
          "text": [
            "The types of data in the dataset are: \n",
            "reviewer_id       float64\n",
            "store_location     object\n",
            "latitude          float64\n",
            "longitude         float64\n",
            "date                int64\n",
            "month               int64\n",
            "year               object\n",
            "title              object\n",
            "review             object\n",
            "review-label        int64\n",
            "dtype: object\n"
          ]
        }
      ],
      "source": [
        "print(f'The types of data in the dataset are: \\n{df.dtypes}')"
      ]
    },
    {
      "cell_type": "code",
      "execution_count": 9,
      "metadata": {
        "colab": {
          "base_uri": "https://localhost:8080/"
        },
        "id": "T-UZkrBwc6sl",
        "outputId": "90bb80ad-a968-4953-99b2-4c3ad92a0e4a"
      },
      "outputs": [
        {
          "name": "stdout",
          "output_type": "stream",
          "text": [
            "Unique values for column reviewer_id are: [0.00000e+00 1.00000e+00 2.00000e+00 ... 2.78097e+05 2.78098e+05\n",
            "         nan]\n",
            "Unique values for column store_location are: ['US' 'CA' 'GB' 'AU' 'NZ' 'DE' 'BG' 'NL' 'SE' 'MY' 'NO' 'MA' 'IN' 'IT'\n",
            " 'JP' 'PT' 'BE' 'FR' 'CH' 'HU' 'SG' 'TH' 'HK' 'SI' 'AT' 'CZ' 'UA' 'ID'\n",
            " 'RO' 'ES' 'MX' 'IL' 'RS' 'PK' 'GI' 'SK' 'FI' 'LT' 'IE' 'PR' 'GU' 'LU'\n",
            " 'JO' 'AE' 'IS' 'PL' 'HR' 'EC' 'BR' 'TR' 'DK' 'MT' 'BS' 'CY' 'CO' 'JM'\n",
            " 'TW' 'NC' 'DO' 'CK' 'KR' 'MR' 'HT' 'VN' 'SR' 'EE' 'RU' 'PA' 'PH' 'CR'\n",
            " 'IM' 'KH' 'EG' 'DZ' 'VE' 'NI' 'BH' 'CL' 'BM' 'TC' 'LK' 'SA' 'GR' 'BO'\n",
            " 'AR' 'GT' 'TN' 'LV' 'CN' 'GD' 'ZA' 'QA' 'UY' 'AF' 'KW' 'BD' 'KZ' 'KY'\n",
            " 'SV' 'KE' 'MD' 'PE' 'AX' 'GY' 'TT' 'HN' 'GP' 'PY' 'SY' 'VI' 'WS' 'BB'\n",
            " 'GE' 'IQ' 'LB' 'TZ' 'NG' 'OM' 'SX' 'LI' 'LC' 'MN' 'GG' 'MK' 'BZ' 'JE'\n",
            " 'MM' 'CM' 'MV' 'UZ' 'BA' 'PF' 'GF' 'GH' 'AW' 'MZ' 'CI' 'MW' 'CW' 'MO'\n",
            " 'UG']\n",
            "Unique values for column date are: [2023 2022 2021 2020 2019 2018]\n",
            "Unique values for column month are: [ 6  3  5  4  1 12 10  2  7 11  8  9]\n",
            "Unique values for column year are: ['2015 00:00:00' '2024 00:00:00' '2017 00:00:00' '2023 00:00:00'\n",
            " '2019 00:00:00' '2021 00:00:00' '2014 00:00:00' '2022 00:00:00'\n",
            " '2018 00:00:00' '2025 00:00:00' '2016 00:00:00' '2007 00:00:00'\n",
            " '2008 00:00:00' '2031 00:00:00' '2020 00:00:00' '2006 00:00:00'\n",
            " '2002 00:00:00' '2009 00:00:00' '2004 00:00:00' '2013 00:00:00'\n",
            " '2010 00:00:00' '2001 00:00:00' '2012 00:00:00' '2005 00:00:00'\n",
            " '2029 00:00:00' '2030 00:00:00' '2003 00:00:00' '2011 00:00:00'\n",
            " '2026 00:00:00' '2028 00:00:00' '2027 00:00:00']\n",
            "Unique values for column review-label are: [5 4 3 1 2]\n"
          ]
        }
      ],
      "source": [
        "for i in df.columns:\n",
        "    if i not in ['title', 'review', 'latitude', 'longitude']:\n",
        "        print(f'Unique values for column {i} are: {df[i].unique()}')"
      ]
    },
    {
      "cell_type": "markdown",
      "metadata": {
        "id": "2J_y66rMc6sl"
      },
      "source": [
        "Eliminating unimportant columns"
      ]
    },
    {
      "cell_type": "code",
      "execution_count": 10,
      "metadata": {
        "id": "_Ji3rc17c6sm"
      },
      "outputs": [],
      "source": [
        "df.drop(['year', 'reviewer_id'], axis=1, inplace=True)"
      ]
    },
    {
      "cell_type": "markdown",
      "metadata": {
        "id": "S3UOQ4TQc6sm"
      },
      "source": [
        "Information about nulls, infinite values and duplicates on the data"
      ]
    },
    {
      "cell_type": "code",
      "execution_count": 11,
      "metadata": {
        "colab": {
          "base_uri": "https://localhost:8080/"
        },
        "id": "NGSS0iECc6sm",
        "outputId": "ae0f4b15-df0a-440d-df9c-2a47cac5475f"
      },
      "outputs": [
        {
          "name": "stdout",
          "output_type": "stream",
          "text": [
            "Total of null data: 30515\n",
            "Total of duplicated data: 1536\n",
            "Percentage of total duplicated data: 0.6%\n",
            "Percentage of total null data: 11.0%\n"
          ]
        }
      ],
      "source": [
        "nulls = df.isnull()\n",
        "duplicated_rows = df.duplicated()\n",
        "\n",
        "print(f'Total of null data: {df.isnull().sum().sum()}')\n",
        "print(f'Total of duplicated data: {duplicated_rows.sum()}')\n",
        "print(f'Percentage of total duplicated data: {duplicated_rows.mean() * 100:.1f}%')\n",
        "print(f'Percentage of total null data: {df.isnull().sum().sum() / df.shape[0] * 100:.1f}%')"
      ]
    },
    {
      "cell_type": "code",
      "execution_count": 12,
      "metadata": {
        "id": "-AYGcvZWc6sm"
      },
      "outputs": [],
      "source": [
        "# Dropping duplicated rows\n",
        "df = df.copy()[~duplicated_rows]"
      ]
    },
    {
      "cell_type": "markdown",
      "metadata": {
        "id": "VwPFcMOsc6sm"
      },
      "source": [
        "Renaming columns so it has a clear pattern"
      ]
    },
    {
      "cell_type": "code",
      "execution_count": 13,
      "metadata": {
        "colab": {
          "base_uri": "https://localhost:8080/"
        },
        "id": "aC7ucCC9c6sn",
        "outputId": "128099cc-a5a0-4657-f168-e79b3b5002dc"
      },
      "outputs": [
        {
          "name": "stdout",
          "output_type": "stream",
          "text": [
            "New columns names: Index(['store_location', 'latitude', 'longitude', 'date', 'month', 'title',\n",
            "       'review', 'review_label'],\n",
            "      dtype='object')\n"
          ]
        }
      ],
      "source": [
        "new_columns = [column.replace('-', '_') for column in df.columns]\n",
        "df.columns = new_columns\n",
        "print(f'New columns names: {df.columns}')"
      ]
    },
    {
      "cell_type": "markdown",
      "metadata": {
        "id": "Ypbsttd6c6sn"
      },
      "source": [
        "From the ProfileReport it can be concluded that the `review` and `title` columns are the ones with null data, so these columns without its nulls will be selected to make the Machine Learning model for sentiment analysis, but the EDA, (Exploratory Data Analysis), will be made with the entire dataset containing nulls since it will be more focused on the other variables and how to use them to improve the sentiment analysis model."
      ]
    },
    {
      "cell_type": "code",
      "execution_count": 14,
      "metadata": {
        "id": "bm86q_bbc6sn"
      },
      "outputs": [],
      "source": [
        "# Dividing the dataset into two parts: one with null values and the other without null values\n",
        "df_eda = df.copy()\n",
        "df_sentiment = df[~df.isnull().any(axis=1)]"
      ]
    },
    {
      "cell_type": "markdown",
      "metadata": {
        "id": "dMJkikXBc6sn"
      },
      "source": [
        "# EDA, (Exploratory Data Analysis)"
      ]
    },
    {
      "cell_type": "code",
      "execution_count": 15,
      "metadata": {
        "id": "CduKDdKHc6sn"
      },
      "outputs": [],
      "source": [
        "# report_after_cleaning = ProfileReport(df_eda)\n",
        "# report_after_cleaning.to_file(\"D:/Estiven/Datos/Proyectos/CognoRise_Infotech/reports/report-sentiment.html\")\n",
        "# report_after_cleaning"
      ]
    },
    {
      "cell_type": "code",
      "execution_count": 16,
      "metadata": {
        "colab": {
          "base_uri": "https://localhost:8080/",
          "height": 144
        },
        "id": "_GB6SCkjc6sn",
        "outputId": "17121434-0915-44af-9b41-a6526ccc4903"
      },
      "outputs": [
        {
          "data": {
            "text/html": [
              "<div>\n",
              "<style scoped>\n",
              "    .dataframe tbody tr th:only-of-type {\n",
              "        vertical-align: middle;\n",
              "    }\n",
              "\n",
              "    .dataframe tbody tr th {\n",
              "        vertical-align: top;\n",
              "    }\n",
              "\n",
              "    .dataframe thead th {\n",
              "        text-align: right;\n",
              "    }\n",
              "</style>\n",
              "<table border=\"1\" class=\"dataframe\">\n",
              "  <thead>\n",
              "    <tr style=\"text-align: right;\">\n",
              "      <th></th>\n",
              "      <th>store_location</th>\n",
              "      <th>latitude</th>\n",
              "      <th>longitude</th>\n",
              "      <th>date</th>\n",
              "      <th>month</th>\n",
              "      <th>title</th>\n",
              "      <th>review</th>\n",
              "      <th>review_label</th>\n",
              "    </tr>\n",
              "  </thead>\n",
              "  <tbody>\n",
              "    <tr>\n",
              "      <th>0</th>\n",
              "      <td>US</td>\n",
              "      <td>37.09024</td>\n",
              "      <td>-95.712891</td>\n",
              "      <td>2023</td>\n",
              "      <td>6</td>\n",
              "      <td>Great help with lost order</td>\n",
              "      <td>I had an order that was lost in transit. When ...</td>\n",
              "      <td>5</td>\n",
              "    </tr>\n",
              "    <tr>\n",
              "      <th>1</th>\n",
              "      <td>US</td>\n",
              "      <td>37.09024</td>\n",
              "      <td>-95.712891</td>\n",
              "      <td>2023</td>\n",
              "      <td>6</td>\n",
              "      <td>I ordered the wrong size tee and hadï¿½ï¿½ï¿½</td>\n",
              "      <td>I ordered the wrong size tee and had difficult...</td>\n",
              "      <td>5</td>\n",
              "    </tr>\n",
              "    <tr>\n",
              "      <th>2</th>\n",
              "      <td>US</td>\n",
              "      <td>37.09024</td>\n",
              "      <td>-95.712891</td>\n",
              "      <td>2023</td>\n",
              "      <td>6</td>\n",
              "      <td>These guys offer the best customerï¿½ï¿½ï¿½</td>\n",
              "      <td>These guys offer the best customer service in ...</td>\n",
              "      <td>5</td>\n",
              "    </tr>\n",
              "  </tbody>\n",
              "</table>\n",
              "</div>"
            ],
            "text/plain": [
              "  store_location  latitude  longitude  date  month  \\\n",
              "0             US  37.09024 -95.712891  2023      6   \n",
              "1             US  37.09024 -95.712891  2023      6   \n",
              "2             US  37.09024 -95.712891  2023      6   \n",
              "\n",
              "                                           title  \\\n",
              "0                     Great help with lost order   \n",
              "1  I ordered the wrong size tee and hadï¿½ï¿½ï¿½   \n",
              "2    These guys offer the best customerï¿½ï¿½ï¿½   \n",
              "\n",
              "                                              review  review_label  \n",
              "0  I had an order that was lost in transit. When ...             5  \n",
              "1  I ordered the wrong size tee and had difficult...             5  \n",
              "2  These guys offer the best customer service in ...             5  "
            ]
          },
          "execution_count": 16,
          "metadata": {},
          "output_type": "execute_result"
        }
      ],
      "source": [
        "df.head(3)"
      ]
    },
    {
      "cell_type": "code",
      "execution_count": 17,
      "metadata": {
        "colab": {
          "base_uri": "https://localhost:8080/",
          "height": 724
        },
        "id": "KXnS4YuXc6sn",
        "outputId": "0716db4e-f008-45fa-9188-483e00038ac0"
      },
      "outputs": [
        {
          "data": {
            "image/png": "[encoded data removed]",
            "text/plain": [
              "<Figure size 1200x800 with 1 Axes>"
            ]
          },
          "metadata": {},
          "output_type": "display_data"
        }
      ],
      "source": [
        "import matplotlib.ticker as ticker\n",
        "\n",
        "# Plot of the distribution of the review-label for the top 5 countries more repeated\n",
        "top_countries = df_eda['store_location'].value_counts().head(5).index\n",
        "df_top_countries = df_eda[df_eda['store_location'].isin(top_countries)]\n",
        "\n",
        "# Sort the data\n",
        "df_top_countries = df_top_countries.sort_values('store_location')\n",
        "\n",
        "# Create the plot\n",
        "plt.figure(figsize=(12, 8))\n",
        "sns.set_style(\"whitegrid\")\n",
        "ax = sns.countplot(data=df_top_countries, x='store_location',\n",
        "                   hue='review_label', order = df_top_countries['store_location'].value_counts().index)\n",
        "\n",
        "# Add a legend, title and labels\n",
        "plt.legend(title='Review Label', title_fontsize='13', loc='upper right')\n",
        "plt.title('Distribution of the review punctuation for the Top 5 most frequent countries', size=15)\n",
        "plt.xlabel('Store location', size=13)\n",
        "plt.ylabel('Count', size=13)\n",
        "\n",
        "# Improve y-axis with a \"k\" thousands format\n",
        "ax.yaxis.set_major_formatter(ticker.EngFormatter())\n",
        "\n",
        "plt.show()"
      ]
    },
    {
      "cell_type": "code",
      "execution_count": 18,
      "metadata": {
        "colab": {
          "base_uri": "https://localhost:8080/",
          "height": 617
        },
        "id": "vqTsen0ec6so",
        "outputId": "f5eff332-587b-4fde-d709-0ca5345a15db"
      },
      "outputs": [
        {
          "data": {
            "application/vnd.plotly.v1+json": {
              "config": {
                "plotlyServerURL": "https://plot.ly"
              },
              "data": [
                {
                  "customdata": [
                    [
                      3.1,
                      23
                    ],
                    [
                      1.6,
                      5
                    ],
                    [
                      2.8,
                      16
                    ],
                    [
                      4.3,
                      73
                    ],
                    [
                      8.4,
                      4664
                    ],
                    [
                      0,
                      1
                    ],
                    [
                      0,
                      1
                    ],
                    [
                      0.7,
                      2
                    ],
                    [
                      1.4,
                      4
                    ],
                    [
                      1.4,
                      4
                    ],
                    [
                      5.3,
                      191
                    ],
                    [
                      2.2,
                      9
                    ],
                    [
                      2.3,
                      10
                    ],
                    [
                      1.8,
                      6
                    ],
                    [
                      1.1,
                      3
                    ],
                    [
                      4.3,
                      76
                    ],
                    [
                      2.4,
                      11
                    ],
                    [
                      0,
                      1
                    ],
                    [
                      9.5,
                      13108
                    ],
                    [
                      4.8,
                      126
                    ],
                    [
                      0,
                      1
                    ],
                    [
                      0,
                      1
                    ],
                    [
                      2.6,
                      13
                    ],
                    [
                      0,
                      1
                    ],
                    [
                      1.6,
                      5
                    ],
                    [
                      2.8,
                      17
                    ],
                    [
                      3.6,
                      35
                    ],
                    [
                      0,
                      1
                    ],
                    [
                      1.9,
                      7
                    ],
                    [
                      4.1,
                      60
                    ],
                    [
                      7,
                      1141
                    ],
                    [
                      4.6,
                      96
                    ],
                    [
                      2.6,
                      14
                    ],
                    [
                      2.4,
                      11
                    ],
                    [
                      1.6,
                      5
                    ],
                    [
                      2.5,
                      12
                    ],
                    [
                      1.9,
                      7
                    ],
                    [
                      5.1,
                      163
                    ],
                    [
                      4.3,
                      73
                    ],
                    [
                      5.9,
                      379
                    ],
                    [
                      8.4,
                      4640
                    ],
                    [
                      0.7,
                      2
                    ],
                    [
                      1.9,
                      7
                    ],
                    [
                      0,
                      1
                    ],
                    [
                      0.7,
                      2
                    ],
                    [
                      0,
                      1
                    ],
                    [
                      0.7,
                      2
                    ],
                    [
                      0,
                      1
                    ],
                    [
                      3.7,
                      40
                    ],
                    [
                      1.6,
                      5
                    ],
                    [
                      3,
                      21
                    ],
                    [
                      1.1,
                      3
                    ],
                    [
                      4.1,
                      62
                    ],
                    [
                      1.6,
                      5
                    ],
                    [
                      3.7,
                      40
                    ],
                    [
                      0.7,
                      2
                    ],
                    [
                      4.2,
                      68
                    ],
                    [
                      2.8,
                      17
                    ],
                    [
                      5.4,
                      213
                    ],
                    [
                      5.2,
                      183
                    ],
                    [
                      2.1,
                      8
                    ],
                    [
                      3.8,
                      45
                    ],
                    [
                      1.1,
                      3
                    ],
                    [
                      2.8,
                      17
                    ],
                    [
                      5.5,
                      239
                    ],
                    [
                      1.1,
                      3
                    ],
                    [
                      2.5,
                      12
                    ],
                    [
                      1.1,
                      3
                    ],
                    [
                      4.9,
                      131
                    ],
                    [
                      0,
                      1
                    ],
                    [
                      0,
                      1
                    ],
                    [
                      3.4,
                      31
                    ],
                    [
                      2.2,
                      9
                    ],
                    [
                      1.1,
                      3
                    ],
                    [
                      0,
                      1
                    ],
                    [
                      0.7,
                      2
                    ],
                    [
                      0,
                      1
                    ],
                    [
                      0,
                      1
                    ],
                    [
                      2.2,
                      9
                    ],
                    [
                      2.9,
                      19
                    ],
                    [
                      3.1,
                      23
                    ],
                    [
                      1.9,
                      7
                    ],
                    [
                      3.4,
                      30
                    ],
                    [
                      0,
                      1
                    ],
                    [
                      0,
                      1
                    ],
                    [
                      0,
                      1
                    ],
                    [
                      0,
                      1
                    ],
                    [
                      0,
                      1
                    ],
                    [
                      0,
                      1
                    ],
                    [
                      2.3,
                      10
                    ],
                    [
                      0.7,
                      2
                    ],
                    [
                      0,
                      1
                    ],
                    [
                      5.4,
                      219
                    ],
                    [
                      3.9,
                      48
                    ],
                    [
                      0,
                      1
                    ],
                    [
                      1.1,
                      3
                    ],
                    [
                      0,
                      1
                    ],
                    [
                      1.1,
                      3
                    ],
                    [
                      6.4,
                      621
                    ],
                    [
                      4.6,
                      101
                    ],
                    [
                      6.1,
                      437
                    ],
                    [
                      0.7,
                      2
                    ],
                    [
                      3,
                      21
                    ],
                    [
                      1.1,
                      3
                    ],
                    [
                      0,
                      1
                    ],
                    [
                      2.8,
                      16
                    ],
                    [
                      2.1,
                      8
                    ],
                    [
                      4.6,
                      100
                    ],
                    [
                      5.1,
                      162
                    ],
                    [
                      4.3,
                      77
                    ],
                    [
                      1.1,
                      3
                    ],
                    [
                      0.7,
                      2
                    ],
                    [
                      3.1,
                      22
                    ],
                    [
                      2.5,
                      12
                    ],
                    [
                      2.6,
                      13
                    ],
                    [
                      2.8,
                      16
                    ],
                    [
                      5.2,
                      180
                    ],
                    [
                      5.2,
                      174
                    ],
                    [
                      1.8,
                      6
                    ],
                    [
                      3.2,
                      24
                    ],
                    [
                      1.1,
                      3
                    ],
                    [
                      1.8,
                      6
                    ],
                    [
                      0,
                      1
                    ],
                    [
                      0,
                      1
                    ],
                    [
                      0,
                      1
                    ],
                    [
                      3.3,
                      28
                    ],
                    [
                      1.1,
                      3
                    ],
                    [
                      1.9,
                      7
                    ],
                    [
                      2.4,
                      11
                    ],
                    [
                      3.2,
                      25
                    ],
                    [
                      0,
                      1
                    ],
                    [
                      2.2,
                      9
                    ],
                    [
                      0,
                      1
                    ],
                    [
                      12.4,
                      247834
                    ],
                    [
                      1.9,
                      7
                    ],
                    [
                      0,
                      1
                    ],
                    [
                      2.5,
                      12
                    ],
                    [
                      1.1,
                      3
                    ],
                    [
                      2.2,
                      9
                    ],
                    [
                      0,
                      1
                    ],
                    [
                      2.7,
                      15
                    ]
                  ],
                  "geo": "geo",
                  "hovertemplate": "<b>%{hovertext}</b><br><br>log_review_count=%{marker.size}<br>latitude=%{lat}<br>longitude=%{lon}<br>log_review_count_rounded=%{marker.color}<br>review_count=%{customdata[1]}<extra></extra>",
                  "hovertext": [
                    "AE",
                    "AF",
                    "AR",
                    "AT",
                    "AU",
                    "AW",
                    "AX",
                    "BA",
                    "BB",
                    "BD",
                    "BE",
                    "BG",
                    "BH",
                    "BM",
                    "BO",
                    "BR",
                    "BS",
                    "BZ",
                    "CA",
                    "CH",
                    "CI",
                    "CK",
                    "CL",
                    "CM",
                    "CN",
                    "CO",
                    "CR",
                    "CW",
                    "CY",
                    "CZ",
                    "DE",
                    "DK",
                    "DO",
                    "DZ",
                    "EC",
                    "EE",
                    "EG",
                    "ES",
                    "FI",
                    "FR",
                    "GB",
                    "GD",
                    "GE",
                    "GF",
                    "GG",
                    "GH",
                    "GI",
                    "GP",
                    "GR",
                    "GT",
                    "GU",
                    "GY",
                    "HK",
                    "HN",
                    "HR",
                    "HT",
                    "HU",
                    "ID",
                    "IE",
                    "IL",
                    "IM",
                    "IN",
                    "IQ",
                    "IS",
                    "IT",
                    "JE",
                    "JM",
                    "JO",
                    "JP",
                    "KE",
                    "KH",
                    "KR",
                    "KW",
                    "KY",
                    "KZ",
                    "LB",
                    "LC",
                    "LI",
                    "LK",
                    "LT",
                    "LU",
                    "LV",
                    "MA",
                    "MD",
                    "MK",
                    "MM",
                    "MN",
                    "MO",
                    "MR",
                    "MT",
                    "MV",
                    "MW",
                    "MX",
                    "MY",
                    "MZ",
                    "NC",
                    "NG",
                    "NI",
                    "NL",
                    "NO",
                    "NZ",
                    "OM",
                    "PA",
                    "PE",
                    "PF",
                    "PH",
                    "PK",
                    "PL",
                    "PR",
                    "PT",
                    "PY",
                    "QA",
                    "RO",
                    "RS",
                    "RU",
                    "SA",
                    "SE",
                    "SG",
                    "SI",
                    "SK",
                    "SR",
                    "SV",
                    "SX",
                    "SY",
                    "TC",
                    "TH",
                    "TN",
                    "TR",
                    "TT",
                    "TW",
                    "TZ",
                    "UA",
                    "UG",
                    "US",
                    "UY",
                    "UZ",
                    "VE",
                    "VI",
                    "VN",
                    "WS",
                    "ZA"
                  ],
                  "lat": [
                    23.424076,
                    33.93911,
                    -38.416097,
                    47.516231,
                    -25.274398,
                    12.52111,
                    60.1785247,
                    43.915886,
                    13.193887,
                    23.684994,
                    50.503887,
                    42.733883,
                    26.0667,
                    32.3078,
                    -16.290154,
                    -14.235004,
                    25.03428,
                    17.189877,
                    56.130366,
                    46.818188,
                    7.539989,
                    -21.236736,
                    -35.675147,
                    7.369722,
                    35.86166,
                    4.570868,
                    9.748917,
                    12.16957,
                    35.126413,
                    49.817492,
                    51.165691,
                    56.26392,
                    18.735693,
                    28.033886,
                    -1.831239,
                    58.595272,
                    26.820553,
                    40.463667,
                    61.92411,
                    46.227638,
                    54.7877149,
                    12.1165,
                    42.315407,
                    3.933889,
                    49.4481982,
                    7.946527,
                    36.140751,
                    16.265,
                    39.074208,
                    15.783471,
                    13.444304,
                    4.860416,
                    22.3193039,
                    15.199999,
                    45.1,
                    18.971187,
                    47.162494,
                    -0.789275,
                    53.7797554,
                    31.046051,
                    54.236107,
                    20.593684,
                    33.223191,
                    64.963051,
                    41.87194,
                    49.2137711,
                    18.109581,
                    30.585164,
                    36.204824,
                    -0.023559,
                    12.565679,
                    35.907757,
                    29.31166,
                    19.3133,
                    48.019573,
                    33.854721,
                    13.909444,
                    47.1410392,
                    7.873054,
                    55.169438,
                    49.815273,
                    56.879635,
                    31.791702,
                    47.411631,
                    41.608635,
                    21.916221,
                    46.862496,
                    22.198745,
                    21.00789,
                    35.937496,
                    3.202778,
                    -13.254308,
                    23.634501,
                    4.210484,
                    -18.665695,
                    -20.904305,
                    9.081999,
                    12.865416,
                    52.132633,
                    60.472024,
                    -40.900557,
                    21.4735329,
                    8.537981,
                    -9.189967,
                    -17.679742,
                    12.879721,
                    30.375321,
                    51.919438,
                    18.220833,
                    39.399872,
                    -23.442503,
                    25.354826,
                    45.943161,
                    44.016521,
                    61.52401,
                    23.885942,
                    60.128161,
                    1.352083,
                    46.151241,
                    48.669026,
                    3.919305,
                    13.794185,
                    18.04248,
                    34.802075,
                    21.694025,
                    15.870032,
                    33.886917,
                    38.963745,
                    10.691803,
                    35.86166,
                    -6.369028,
                    48.379433,
                    1.373333,
                    37.09024,
                    -32.522779,
                    41.377491,
                    6.42375,
                    18.335765,
                    14.058324,
                    -13.759029,
                    -30.559482
                  ],
                  "legendgroup": "",
                  "lon": [
                    53.847818,
                    67.709953,
                    -63.616672,
                    14.550072,
                    133.775136,
                    -69.968338,
                    19.9156105,
                    17.679076,
                    -59.543198,
                    90.356331,
                    4.469936,
                    25.48583,
                    50.5577,
                    -64.7505,
                    -63.588653,
                    -51.92528,
                    -77.39628,
                    -88.49765,
                    -106.346771,
                    8.227512,
                    -5.54708,
                    -159.777671,
                    -71.542969,
                    12.354722,
                    104.195397,
                    -74.297333,
                    -83.753428,
                    -68.99002,
                    33.429859,
                    15.472962,
                    10.451526,
                    9.501785,
                    -70.162651,
                    1.659626,
                    -78.183406,
                    25.013607,
                    30.802498,
                    -3.74922,
                    25.748151,
                    2.213749,
                    -6.4923145,
                    -61.679,
                    43.356892,
                    -53.125782,
                    -2.58949,
                    -1.023194,
                    -5.353585,
                    -61.551,
                    21.824312,
                    -90.230759,
                    144.793731,
                    -58.93018,
                    114.1693611,
                    -86.241905,
                    15.2,
                    -72.285215,
                    19.503304,
                    113.921327,
                    -7.3055309,
                    34.851612,
                    -4.548056,
                    78.96288,
                    43.679291,
                    -19.020835,
                    12.56738,
                    -2.1357662,
                    -77.297508,
                    36.238414,
                    138.252924,
                    37.906193,
                    104.990963,
                    127.766922,
                    47.481766,
                    -81.2546,
                    66.923684,
                    35.862285,
                    -60.978893,
                    9.520935,
                    80.771797,
                    23.881275,
                    6.129583,
                    24.603189,
                    -7.09262,
                    28.369885,
                    21.745275,
                    95.955974,
                    103.846656,
                    113.543873,
                    -10.940835,
                    14.375416,
                    73.22068,
                    34.301525,
                    -102.552784,
                    101.975766,
                    35.529562,
                    165.618042,
                    8.675277,
                    -85.207229,
                    5.291266,
                    8.468946,
                    174.885971,
                    55.975413,
                    -80.782127,
                    -75.015152,
                    -149.406843,
                    121.774017,
                    69.345116,
                    19.145136,
                    -66.590149,
                    -8.224454,
                    -58.443832,
                    51.183884,
                    24.96676,
                    21.005859,
                    105.318756,
                    45.079162,
                    18.643501,
                    103.819836,
                    14.995463,
                    19.699024,
                    -56.027783,
                    -88.89653,
                    -63.05483,
                    38.996815,
                    -71.797928,
                    100.992541,
                    9.537499,
                    35.243322,
                    -61.222503,
                    104.195397,
                    34.888822,
                    31.16558,
                    32.290275,
                    -95.712891,
                    -55.765835,
                    64.585262,
                    -66.58973,
                    -64.896335,
                    108.277199,
                    -172.104629,
                    22.937506
                  ],
                  "marker": {
                    "color": [
                      3.1,
                      1.6,
                      2.8,
                      4.3,
                      8.4,
                      0,
                      0,
                      0.7,
                      1.4,
                      1.4,
                      5.3,
                      2.2,
                      2.3,
                      1.8,
                      1.1,
                      4.3,
                      2.4,
                      0,
                      9.5,
                      4.8,
                      0,
                      0,
                      2.6,
                      0,
                      1.6,
                      2.8,
                      3.6,
                      0,
                      1.9,
                      4.1,
                      7,
                      4.6,
                      2.6,
                      2.4,
                      1.6,
                      2.5,
                      1.9,
                      5.1,
                      4.3,
                      5.9,
                      8.4,
                      0.7,
                      1.9,
                      0,
                      0.7,
                      0,
                      0.7,
                      0,
                      3.7,
                      1.6,
                      3,
                      1.1,
                      4.1,
                      1.6,
                      3.7,
                      0.7,
                      4.2,
                      2.8,
                      5.4,
                      5.2,
                      2.1,
                      3.8,
                      1.1,
                      2.8,
                      5.5,
                      1.1,
                      2.5,
                      1.1,
                      4.9,
                      0,
                      0,
                      3.4,
                      2.2,
                      1.1,
                      0,
                      0.7,
                      0,
                      0,
                      2.2,
                      2.9,
                      3.1,
                      1.9,
                      3.4,
                      0,
                      0,
                      0,
                      0,
                      0,
                      0,
                      2.3,
                      0.7,
                      0,
                      5.4,
                      3.9,
                      0,
                      1.1,
                      0,
                      1.1,
                      6.4,
                      4.6,
                      6.1,
                      0.7,
                      3,
                      1.1,
                      0,
                      2.8,
                      2.1,
                      4.6,
                      5.1,
                      4.3,
                      1.1,
                      0.7,
                      3.1,
                      2.5,
                      2.6,
                      2.8,
                      5.2,
                      5.2,
                      1.8,
                      3.2,
                      1.1,
                      1.8,
                      0,
                      0,
                      0,
                      3.3,
                      1.1,
                      1.9,
                      2.4,
                      3.2,
                      0,
                      2.2,
                      0,
                      12.4,
                      1.9,
                      0,
                      2.5,
                      1.1,
                      2.2,
                      0,
                      2.7
                    ],
                    "coloraxis": "coloraxis",
                    "colorbar": {
                      "ticktext": [
                        "0",
                        "100",
                        "10000",
                        "1000000",
                        "100000000"
                      ],
                      "tickvals": [
                        0,
                        2,
                        4,
                        6,
                        8
                      ]
                    },
                    "size": [
                      3.1,
                      1.6,
                      2.8,
                      4.3,
                      8.4,
                      0,
                      0,
                      0.7,
                      1.4,
                      1.4,
                      5.3,
                      2.2,
                      2.3,
                      1.8,
                      1.1,
                      4.3,
                      2.4,
                      0,
                      9.5,
                      4.8,
                      0,
                      0,
                      2.6,
                      0,
                      1.6,
                      2.8,
                      3.6,
                      0,
                      1.9,
                      4.1,
                      7,
                      4.6,
                      2.6,
                      2.4,
                      1.6,
                      2.5,
                      1.9,
                      5.1,
                      4.3,
                      5.9,
                      8.4,
                      0.7,
                      1.9,
                      0,
                      0.7,
                      0,
                      0.7,
                      0,
                      3.7,
                      1.6,
                      3,
                      1.1,
                      4.1,
                      1.6,
                      3.7,
                      0.7,
                      4.2,
                      2.8,
                      5.4,
                      5.2,
                      2.1,
                      3.8,
                      1.1,
                      2.8,
                      5.5,
                      1.1,
                      2.5,
                      1.1,
                      4.9,
                      0,
                      0,
                      3.4,
                      2.2,
                      1.1,
                      0,
                      0.7,
                      0,
                      0,
                      2.2,
                      2.9,
                      3.1,
                      1.9,
                      3.4,
                      0,
                      0,
                      0,
                      0,
                      0,
                      0,
                      2.3,
                      0.7,
                      0,
                      5.4,
                      3.9,
                      0,
                      1.1,
                      0,
                      1.1,
                      6.4,
                      4.6,
                      6.1,
                      0.7,
                      3,
                      1.1,
                      0,
                      2.8,
                      2.1,
                      4.6,
                      5.1,
                      4.3,
                      1.1,
                      0.7,
                      3.1,
                      2.5,
                      2.6,
                      2.8,
                      5.2,
                      5.2,
                      1.8,
                      3.2,
                      1.1,
                      1.8,
                      0,
                      0,
                      0,
                      3.3,
                      1.1,
                      1.9,
                      2.4,
                      3.2,
                      0,
                      2.2,
                      0,
                      12.4,
                      1.9,
                      0,
                      2.5,
                      1.1,
                      2.2,
                      0,
                      2.7
                    ],
                    "sizemode": "area",
                    "sizeref": 0.031,
                    "symbol": "circle"
                  },
                  "mode": "markers",
                  "name": "",
                  "showlegend": false,
                  "type": "scattergeo"
                }
              ],
              "layout": {
                "annotations": [
                  {
                    "font": {
                      "color": "black",
                      "size": 15
                    },
                    "showarrow": false,
                    "text": "Size of bubbles represents the log of review count.",
                    "x": 0.5,
                    "xref": "paper",
                    "y": -0.15,
                    "yref": "paper"
                  },
                  {
                    "font": {
                      "color": "black",
                      "size": 15
                    },
                    "showarrow": false,
                    "text": "This is made to better represent the data in the map.",
                    "x": 0.5,
                    "xref": "paper",
                    "y": -0.19,
                    "yref": "paper"
                  }
                ],
                "autosize": false,
                "coloraxis": {
                  "colorbar": {
                    "tickformat": ".1f",
                    "title": {
                      "text": "Log of Review Count"
                    }
                  },
                  "colorscale": [
                    [
                      0,
                      "#0d0887"
                    ],
                    [
                      0.1111111111111111,
                      "#46039f"
                    ],
                    [
                      0.2222222222222222,
                      "#7201a8"
                    ],
                    [
                      0.3333333333333333,
                      "#9c179e"
                    ],
                    [
                      0.4444444444444444,
                      "#bd3786"
                    ],
                    [
                      0.5555555555555556,
                      "#d8576b"
                    ],
                    [
                      0.6666666666666666,
                      "#ed7953"
                    ],
                    [
                      0.7777777777777778,
                      "#fb9f3a"
                    ],
                    [
                      0.8888888888888888,
                      "#fdca26"
                    ],
                    [
                      1,
                      "#f0f921"
                    ]
                  ]
                },
                "geo": {
                  "center": {},
                  "domain": {
                    "x": [
                      0,
                      1
                    ],
                    "y": [
                      0,
                      1
                    ]
                  },
                  "projection": {
                    "type": "natural earth"
                  }
                },
                "height": 600,
                "legend": {
                  "itemsizing": "constant",
                  "tracegroupgap": 0
                },
                "margin": {
                  "b": 100,
                  "l": 50,
                  "pad": 10,
                  "r": 50,
                  "t": 100
                },
                "template": {
                  "data": {
                    "bar": [
                      {
                        "error_x": {
                          "color": "#2a3f5f"
                        },
                        "error_y": {
                          "color": "#2a3f5f"
                        },
                        "marker": {
                          "line": {
                            "color": "#E5ECF6",
                            "width": 0.5
                          },
                          "pattern": {
                            "fillmode": "overlay",
                            "size": 10,
                            "solidity": 0.2
                          }
                        },
                        "type": "bar"
                      }
                    ],
                    "barpolar": [
                      {
                        "marker": {
                          "line": {
                            "color": "#E5ECF6",
                            "width": 0.5
                          },
                          "pattern": {
                            "fillmode": "overlay",
                            "size": 10,
                            "solidity": 0.2
                          }
                        },
                        "type": "barpolar"
                      }
                    ],
                    "carpet": [
                      {
                        "aaxis": {
                          "endlinecolor": "#2a3f5f",
                          "gridcolor": "white",
                          "linecolor": "white",
                          "minorgridcolor": "white",
                          "startlinecolor": "#2a3f5f"
                        },
                        "baxis": {
                          "endlinecolor": "#2a3f5f",
                          "gridcolor": "white",
                          "linecolor": "white",
                          "minorgridcolor": "white",
                          "startlinecolor": "#2a3f5f"
                        },
                        "type": "carpet"
                      }
                    ],
                    "choropleth": [
                      {
                        "colorbar": {
                          "outlinewidth": 0,
                          "ticks": ""
                        },
                        "type": "choropleth"
                      }
                    ],
                    "contour": [
                      {
                        "colorbar": {
                          "outlinewidth": 0,
                          "ticks": ""
                        },
                        "colorscale": [
                          [
                            0,
                            "#0d0887"
                          ],
                          [
                            0.1111111111111111,
                            "#46039f"
                          ],
                          [
                            0.2222222222222222,
                            "#7201a8"
                          ],
                          [
                            0.3333333333333333,
                            "#9c179e"
                          ],
                          [
                            0.4444444444444444,
                            "#bd3786"
                          ],
                          [
                            0.5555555555555556,
                            "#d8576b"
                          ],
                          [
                            0.6666666666666666,
                            "#ed7953"
                          ],
                          [
                            0.7777777777777778,
                            "#fb9f3a"
                          ],
                          [
                            0.8888888888888888,
                            "#fdca26"
                          ],
                          [
                            1,
                            "#f0f921"
                          ]
                        ],
                        "type": "contour"
                      }
                    ],
                    "contourcarpet": [
                      {
                        "colorbar": {
                          "outlinewidth": 0,
                          "ticks": ""
                        },
                        "type": "contourcarpet"
                      }
                    ],
                    "heatmap": [
                      {
                        "colorbar": {
                          "outlinewidth": 0,
                          "ticks": ""
                        },
                        "colorscale": [
                          [
                            0,
                            "#0d0887"
                          ],
                          [
                            0.1111111111111111,
                            "#46039f"
                          ],
                          [
                            0.2222222222222222,
                            "#7201a8"
                          ],
                          [
                            0.3333333333333333,
                            "#9c179e"
                          ],
                          [
                            0.4444444444444444,
                            "#bd3786"
                          ],
                          [
                            0.5555555555555556,
                            "#d8576b"
                          ],
                          [
                            0.6666666666666666,
                            "#ed7953"
                          ],
                          [
                            0.7777777777777778,
                            "#fb9f3a"
                          ],
                          [
                            0.8888888888888888,
                            "#fdca26"
                          ],
                          [
                            1,
                            "#f0f921"
                          ]
                        ],
                        "type": "heatmap"
                      }
                    ],
                    "heatmapgl": [
                      {
                        "colorbar": {
                          "outlinewidth": 0,
                          "ticks": ""
                        },
                        "colorscale": [
                          [
                            0,
                            "#0d0887"
                          ],
                          [
                            0.1111111111111111,
                            "#46039f"
                          ],
                          [
                            0.2222222222222222,
                            "#7201a8"
                          ],
                          [
                            0.3333333333333333,
                            "#9c179e"
                          ],
                          [
                            0.4444444444444444,
                            "#bd3786"
                          ],
                          [
                            0.5555555555555556,
                            "#d8576b"
                          ],
                          [
                            0.6666666666666666,
                            "#ed7953"
                          ],
                          [
                            0.7777777777777778,
                            "#fb9f3a"
                          ],
                          [
                            0.8888888888888888,
                            "#fdca26"
                          ],
                          [
                            1,
                            "#f0f921"
                          ]
                        ],
                        "type": "heatmapgl"
                      }
                    ],
                    "histogram": [
                      {
                        "marker": {
                          "pattern": {
                            "fillmode": "overlay",
                            "size": 10,
                            "solidity": 0.2
                          }
                        },
                        "type": "histogram"
                      }
                    ],
                    "histogram2d": [
                      {
                        "colorbar": {
                          "outlinewidth": 0,
                          "ticks": ""
                        },
                        "colorscale": [
                          [
                            0,
                            "#0d0887"
                          ],
                          [
                            0.1111111111111111,
                            "#46039f"
                          ],
                          [
                            0.2222222222222222,
                            "#7201a8"
                          ],
                          [
                            0.3333333333333333,
                            "#9c179e"
                          ],
                          [
                            0.4444444444444444,
                            "#bd3786"
                          ],
                          [
                            0.5555555555555556,
                            "#d8576b"
                          ],
                          [
                            0.6666666666666666,
                            "#ed7953"
                          ],
                          [
                            0.7777777777777778,
                            "#fb9f3a"
                          ],
                          [
                            0.8888888888888888,
                            "#fdca26"
                          ],
                          [
                            1,
                            "#f0f921"
                          ]
                        ],
                        "type": "histogram2d"
                      }
                    ],
                    "histogram2dcontour": [
                      {
                        "colorbar": {
                          "outlinewidth": 0,
                          "ticks": ""
                        },
                        "colorscale": [
                          [
                            0,
                            "#0d0887"
                          ],
                          [
                            0.1111111111111111,
                            "#46039f"
                          ],
                          [
                            0.2222222222222222,
                            "#7201a8"
                          ],
                          [
                            0.3333333333333333,
                            "#9c179e"
                          ],
                          [
                            0.4444444444444444,
                            "#bd3786"
                          ],
                          [
                            0.5555555555555556,
                            "#d8576b"
                          ],
                          [
                            0.6666666666666666,
                            "#ed7953"
                          ],
                          [
                            0.7777777777777778,
                            "#fb9f3a"
                          ],
                          [
                            0.8888888888888888,
                            "#fdca26"
                          ],
                          [
                            1,
                            "#f0f921"
                          ]
                        ],
                        "type": "histogram2dcontour"
                      }
                    ],
                    "mesh3d": [
                      {
                        "colorbar": {
                          "outlinewidth": 0,
                          "ticks": ""
                        },
                        "type": "mesh3d"
                      }
                    ],
                    "parcoords": [
                      {
                        "line": {
                          "colorbar": {
                            "outlinewidth": 0,
                            "ticks": ""
                          }
                        },
                        "type": "parcoords"
                      }
                    ],
                    "pie": [
                      {
                        "automargin": true,
                        "type": "pie"
                      }
                    ],
                    "scatter": [
                      {
                        "fillpattern": {
                          "fillmode": "overlay",
                          "size": 10,
                          "solidity": 0.2
                        },
                        "type": "scatter"
                      }
                    ],
                    "scatter3d": [
                      {
                        "line": {
                          "colorbar": {
                            "outlinewidth": 0,
                            "ticks": ""
                          }
                        },
                        "marker": {
                          "colorbar": {
                            "outlinewidth": 0,
                            "ticks": ""
                          }
                        },
                        "type": "scatter3d"
                      }
                    ],
                    "scattercarpet": [
                      {
                        "marker": {
                          "colorbar": {
                            "outlinewidth": 0,
                            "ticks": ""
                          }
                        },
                        "type": "scattercarpet"
                      }
                    ],
                    "scattergeo": [
                      {
                        "marker": {
                          "colorbar": {
                            "outlinewidth": 0,
                            "ticks": ""
                          }
                        },
                        "type": "scattergeo"
                      }
                    ],
                    "scattergl": [
                      {
                        "marker": {
                          "colorbar": {
                            "outlinewidth": 0,
                            "ticks": ""
                          }
                        },
                        "type": "scattergl"
                      }
                    ],
                    "scattermapbox": [
                      {
                        "marker": {
                          "colorbar": {
                            "outlinewidth": 0,
                            "ticks": ""
                          }
                        },
                        "type": "scattermapbox"
                      }
                    ],
                    "scatterpolar": [
                      {
                        "marker": {
                          "colorbar": {
                            "outlinewidth": 0,
                            "ticks": ""
                          }
                        },
                        "type": "scatterpolar"
                      }
                    ],
                    "scatterpolargl": [
                      {
                        "marker": {
                          "colorbar": {
                            "outlinewidth": 0,
                            "ticks": ""
                          }
                        },
                        "type": "scatterpolargl"
                      }
                    ],
                    "scatterternary": [
                      {
                        "marker": {
                          "colorbar": {
                            "outlinewidth": 0,
                            "ticks": ""
                          }
                        },
                        "type": "scatterternary"
                      }
                    ],
                    "surface": [
                      {
                        "colorbar": {
                          "outlinewidth": 0,
                          "ticks": ""
                        },
                        "colorscale": [
                          [
                            0,
                            "#0d0887"
                          ],
                          [
                            0.1111111111111111,
                            "#46039f"
                          ],
                          [
                            0.2222222222222222,
                            "#7201a8"
                          ],
                          [
                            0.3333333333333333,
                            "#9c179e"
                          ],
                          [
                            0.4444444444444444,
                            "#bd3786"
                          ],
                          [
                            0.5555555555555556,
                            "#d8576b"
                          ],
                          [
                            0.6666666666666666,
                            "#ed7953"
                          ],
                          [
                            0.7777777777777778,
                            "#fb9f3a"
                          ],
                          [
                            0.8888888888888888,
                            "#fdca26"
                          ],
                          [
                            1,
                            "#f0f921"
                          ]
                        ],
                        "type": "surface"
                      }
                    ],
                    "table": [
                      {
                        "cells": {
                          "fill": {
                            "color": "#EBF0F8"
                          },
                          "line": {
                            "color": "white"
                          }
                        },
                        "header": {
                          "fill": {
                            "color": "#C8D4E3"
                          },
                          "line": {
                            "color": "white"
                          }
                        },
                        "type": "table"
                      }
                    ]
                  },
                  "layout": {
                    "annotationdefaults": {
                      "arrowcolor": "#2a3f5f",
                      "arrowhead": 0,
                      "arrowwidth": 1
                    },
                    "autotypenumbers": "strict",
                    "coloraxis": {
                      "colorbar": {
                        "outlinewidth": 0,
                        "ticks": ""
                      }
                    },
                    "colorscale": {
                      "diverging": [
                        [
                          0,
                          "#8e0152"
                        ],
                        [
                          0.1,
                          "#c51b7d"
                        ],
                        [
                          0.2,
                          "#de77ae"
                        ],
                        [
                          0.3,
                          "#f1b6da"
                        ],
                        [
                          0.4,
                          "#fde0ef"
                        ],
                        [
                          0.5,
                          "#f7f7f7"
                        ],
                        [
                          0.6,
                          "#e6f5d0"
                        ],
                        [
                          0.7,
                          "#b8e186"
                        ],
                        [
                          0.8,
                          "#7fbc41"
                        ],
                        [
                          0.9,
                          "#4d9221"
                        ],
                        [
                          1,
                          "#276419"
                        ]
                      ],
                      "sequential": [
                        [
                          0,
                          "#0d0887"
                        ],
                        [
                          0.1111111111111111,
                          "#46039f"
                        ],
                        [
                          0.2222222222222222,
                          "#7201a8"
                        ],
                        [
                          0.3333333333333333,
                          "#9c179e"
                        ],
                        [
                          0.4444444444444444,
                          "#bd3786"
                        ],
                        [
                          0.5555555555555556,
                          "#d8576b"
                        ],
                        [
                          0.6666666666666666,
                          "#ed7953"
                        ],
                        [
                          0.7777777777777778,
                          "#fb9f3a"
                        ],
                        [
                          0.8888888888888888,
                          "#fdca26"
                        ],
                        [
                          1,
                          "#f0f921"
                        ]
                      ],
                      "sequentialminus": [
                        [
                          0,
                          "#0d0887"
                        ],
                        [
                          0.1111111111111111,
                          "#46039f"
                        ],
                        [
                          0.2222222222222222,
                          "#7201a8"
                        ],
                        [
                          0.3333333333333333,
                          "#9c179e"
                        ],
                        [
                          0.4444444444444444,
                          "#bd3786"
                        ],
                        [
                          0.5555555555555556,
                          "#d8576b"
                        ],
                        [
                          0.6666666666666666,
                          "#ed7953"
                        ],
                        [
                          0.7777777777777778,
                          "#fb9f3a"
                        ],
                        [
                          0.8888888888888888,
                          "#fdca26"
                        ],
                        [
                          1,
                          "#f0f921"
                        ]
                      ]
                    },
                    "colorway": [
                      "#636efa",
                      "#EF553B",
                      "#00cc96",
                      "#ab63fa",
                      "#FFA15A",
                      "#19d3f3",
                      "#FF6692",
                      "#B6E880",
                      "#FF97FF",
                      "#FECB52"
                    ],
                    "font": {
                      "color": "#2a3f5f"
                    },
                    "geo": {
                      "bgcolor": "white",
                      "lakecolor": "white",
                      "landcolor": "#E5ECF6",
                      "showlakes": true,
                      "showland": true,
                      "subunitcolor": "white"
                    },
                    "hoverlabel": {
                      "align": "left"
                    },
                    "hovermode": "closest",
                    "mapbox": {
                      "style": "light"
                    },
                    "paper_bgcolor": "white",
                    "plot_bgcolor": "#E5ECF6",
                    "polar": {
                      "angularaxis": {
                        "gridcolor": "white",
                        "linecolor": "white",
                        "ticks": ""
                      },
                      "bgcolor": "#E5ECF6",
                      "radialaxis": {
                        "gridcolor": "white",
                        "linecolor": "white",
                        "ticks": ""
                      }
                    },
                    "scene": {
                      "xaxis": {
                        "backgroundcolor": "#E5ECF6",
                        "gridcolor": "white",
                        "gridwidth": 2,
                        "linecolor": "white",
                        "showbackground": true,
                        "ticks": "",
                        "zerolinecolor": "white"
                      },
                      "yaxis": {
                        "backgroundcolor": "#E5ECF6",
                        "gridcolor": "white",
                        "gridwidth": 2,
                        "linecolor": "white",
                        "showbackground": true,
                        "ticks": "",
                        "zerolinecolor": "white"
                      },
                      "zaxis": {
                        "backgroundcolor": "#E5ECF6",
                        "gridcolor": "white",
                        "gridwidth": 2,
                        "linecolor": "white",
                        "showbackground": true,
                        "ticks": "",
                        "zerolinecolor": "white"
                      }
                    },
                    "shapedefaults": {
                      "line": {
                        "color": "#2a3f5f"
                      }
                    },
                    "ternary": {
                      "aaxis": {
                        "gridcolor": "white",
                        "linecolor": "white",
                        "ticks": ""
                      },
                      "baxis": {
                        "gridcolor": "white",
                        "linecolor": "white",
                        "ticks": ""
                      },
                      "bgcolor": "#E5ECF6",
                      "caxis": {
                        "gridcolor": "white",
                        "linecolor": "white",
                        "ticks": ""
                      }
                    },
                    "title": {
                      "x": 0.05
                    },
                    "xaxis": {
                      "automargin": true,
                      "gridcolor": "white",
                      "linecolor": "white",
                      "ticks": "",
                      "title": {
                        "standoff": 15
                      },
                      "zerolinecolor": "white",
                      "zerolinewidth": 2
                    },
                    "yaxis": {
                      "automargin": true,
                      "gridcolor": "white",
                      "linecolor": "white",
                      "ticks": "",
                      "title": {
                        "standoff": 15
                      },
                      "zerolinecolor": "white",
                      "zerolinewidth": 2
                    }
                  }
                },
                "title": {
                  "text": "Number of reviews per store location (Log scale)"
                },
                "width": 1000,
                "xaxis": {
                  "title": {
                    "text": "Longitude"
                  }
                },
                "yaxis": {
                  "title": {
                    "text": "Latitude"
                  }
                }
              }
            }
          },
          "metadata": {},
          "output_type": "display_data"
        }
      ],
      "source": [
        "# Aggregate data to get total reviews per store location\n",
        "df_agg = df_eda.groupby(['store_location', 'latitude', 'longitude']).size().reset_index(name='review_count')\n",
        "\n",
        "# Apply a logarithmic transformation to 'review_count'\n",
        "df_agg['log_review_count'] = round(np.log(df_agg['review_count']), 1)\n",
        "\n",
        "# Round the log_review_count to one decimal\n",
        "df_agg['log_review_count_rounded'] = df_agg['log_review_count'].round(1)\n",
        "\n",
        "# Create bubble map\n",
        "fig = px.scatter_geo(df_agg,\n",
        "                     lat='latitude',\n",
        "                     lon='longitude',\n",
        "                     color='log_review_count_rounded',\n",
        "                     size='log_review_count',\n",
        "                     hover_name='store_location',\n",
        "                     hover_data={'log_review_count_rounded': True, 'review_count': True},\n",
        "                     projection='natural earth',\n",
        "                     title='Number of reviews per store location (Log scale)',\n",
        "                     color_continuous_scale=px.colors.sequential.Plasma\n",
        ")\n",
        "\n",
        "# Add colorbar\n",
        "fig.update_layout(coloraxis_colorbar=dict(title='Log of Review Count', tickformat='.1f'))\n",
        "\n",
        "# Improve color scale\n",
        "fig.update_traces(marker=dict(colorbar=dict(tickvals=[0, 2, 4, 6, 8], ticktext=['0', '100', '10000', '1000000', '100000000'])))\n",
        "\n",
        "# Add title and labels\n",
        "fig.update_layout(title_text=\"Number of reviews per store location (Log scale)\",\n",
        "                  xaxis_title=\"Longitude\",\n",
        "                  yaxis_title=\"Latitude\")\n",
        "\n",
        "# Add annotations\n",
        "fig.add_annotation(\n",
        "            x=0.5,\n",
        "            y=-0.15,\n",
        "            xref=\"paper\",\n",
        "            yref=\"paper\",\n",
        "            text=\"Size of bubbles represents the log of review count.\",\n",
        "            showarrow=False,\n",
        "            font=dict(\n",
        "                size=15,\n",
        "                color=\"black\"\n",
        "            )\n",
        "        )\n",
        "fig.add_annotation(\n",
        "            x=0.5,\n",
        "            y=-0.19,\n",
        "            xref=\"paper\",\n",
        "            yref=\"paper\",\n",
        "            text=\"This is made to better represent the data in the map.\",\n",
        "            showarrow=False,\n",
        "            font=dict(\n",
        "                size=15,\n",
        "                color=\"black\"\n",
        "            )\n",
        "        )\n",
        "\n",
        "# Adjust the size and margins of the map\n",
        "fig.update_layout(\n",
        "    autosize=False,\n",
        "    width=1000,\n",
        "    height=600,\n",
        "    margin=dict(\n",
        "        l=50,\n",
        "        r=50,\n",
        "        b=100,\n",
        "        t=100,\n",
        "        pad=10\n",
        "    )\n",
        ")\n",
        "\n",
        "fig.show()"
      ]
    },
    {
      "cell_type": "markdown",
      "metadata": {
        "id": "lHbhKy8Pc6so"
      },
      "source": [
        "# Shopper sentiment analysis"
      ]
    },
    {
      "cell_type": "markdown",
      "metadata": {},
      "source": [
        "The variable"
      ]
    },
    {
      "cell_type": "code",
      "execution_count": 20,
      "metadata": {
        "id": "0NOrYYbNc6sp"
      },
      "outputs": [],
      "source": [
        "# Number of samples per class\n",
        "n_samples = 10716\n",
        "\n",
        "# Sample equally from each class\n",
        "df_sentiment = df_sentiment.groupby('review_label').apply(lambda x: x.sample(n_samples)).reset_index(drop=True) # Undersample of the df_sentiment\n",
        "df_sentiment['review_label'] = df_sentiment['review_label'].map({1:0, 2:1, 3:2, 4:3, 5:4})"
      ]
    },
    {
      "cell_type": "code",
      "execution_count": null,
      "metadata": {},
      "outputs": [],
      "source": [
        "df_sentiment['store_location'].value_counts()"
      ]
    },
    {
      "cell_type": "code",
      "execution_count": 21,
      "metadata": {
        "colab": {
          "base_uri": "https://localhost:8080/"
        },
        "id": "iAfBcxcFc6sp",
        "outputId": "e1cf8c79-def7-4936-c9e5-d8801648d7a5"
      },
      "outputs": [
        {
          "data": {
            "text/plain": [
              "review_label\n",
              "0    10716\n",
              "1    10716\n",
              "2    10716\n",
              "3    10716\n",
              "4    10716\n",
              "Name: count, dtype: int64"
            ]
          },
          "execution_count": 21,
          "metadata": {},
          "output_type": "execute_result"
        }
      ],
      "source": [
        "df_sentiment['review_label'].value_counts()"
      ]
    },
    {
      "cell_type": "code",
      "execution_count": 22,
      "metadata": {
        "id": "Cxjo-Mxnc6sp"
      },
      "outputs": [],
      "source": [
        "# Convert the 'review_label' column to integer type\n",
        "df_sentiment['review_label'] = df_sentiment['review_label'].astype(int)\n",
        "\n",
        "# Split the dataset into features (X) and target (y)\n",
        "X = df_sentiment.drop('review_label', axis=1)\n",
        "y = df_sentiment['review_label']"
      ]
    },
    {
      "cell_type": "code",
      "execution_count": 23,
      "metadata": {
        "id": "7dDRwbSIc6sp"
      },
      "outputs": [],
      "source": [
        "# Define a function to tokenize text and remove stopwords\n",
        "stop_words = set(stopwords.words('english'))\n",
        "\n",
        "nltk.download('stopwords')\n",
        "nltk.download('punkt')\n",
        "\n",
        "def preprocess_text(text):\n",
        "    tokens = word_tokenize(text)\n",
        "    tokens = [word.lower() for word in tokens if word.isalnum()]\n",
        "    tokens = [word for word in tokens if not word in stop_words]\n",
        "    return ' '.join(tokens)\n",
        "\n",
        "# Apply text preprocessing to the 'review' column\n",
        "X['review'] = X['review'].apply(preprocess_text)\n",
        "X['title'] = X['title'].apply(preprocess_text)"
      ]
    },
    {
      "cell_type": "code",
      "execution_count": 24,
      "metadata": {
        "id": "M6z6QHVtc6sq"
      },
      "outputs": [],
      "source": [
        "# Split the data into training and testing sets\n",
        "X_train, X_test, y_train, y_test = train_test_split(X, y, test_size=0.3, stratify=y)"
      ]
    },
    {
      "cell_type": "code",
      "execution_count": 25,
      "metadata": {
        "id": "Gug4lzz5c6sq"
      },
      "outputs": [],
      "source": [
        "# Vecotorization of the X data\n",
        "vectorizer = TfidfVectorizer()\n",
        "X_train_vectorized = vectorizer.fit_transform(X_train)\n",
        "X_test_vectorized = vectorizer.transform(X_test)"
      ]
    },
    {
      "cell_type": "code",
      "execution_count": 26,
      "metadata": {
        "colab": {
          "base_uri": "https://localhost:8080/",
          "height": 356
        },
        "id": "2pExNM9vc6sq",
        "outputId": "777896bf-0855-4426-b81d-c05e7b6e1461"
      },
      "outputs": [],
      "source": [
        "# Preprocessing steps\n",
        "from sklearn.preprocessing import MinMaxScaler\n",
        "\n",
        "preprocess = ColumnTransformer(\n",
        "    transformers=[\n",
        "        ('text_review', TfidfVectorizer(), 'review'),    # TfidfVectorizer for 'review'\n",
        "        ('text_title', TfidfVectorizer(), 'title'),      # TfidfVectorizer for 'title'\n",
        "        ('text_location', TfidfVectorizer(), 'store_location'),  # TfidfVectorizer for 'store_location'\n",
        "        ('scale_date', MinMaxScaler(), ['date']),  # MinMaxScaler for 'date'\n",
        "        ('scale_month', MinMaxScaler(), ['month']),  # MinMaxScaler for 'month'\n",
        "        ('scale_longitude', MinMaxScaler(), ['longitude']),  # MinMaxScaler for 'longitude'\n",
        "        ('scale_latitude', MinMaxScaler(), ['latitude']),  # MinMaxScaler for 'latitude'\n",
        "    ]\n",
        ")\n",
        "\n",
        "from sklearn.ensemble import RandomForestClassifier, GradientBoostingClassifier, VotingClassifier\n",
        "from xgboost import XGBClassifier\n",
        "\n",
        "# Models to use\n",
        "model1 = RandomForestClassifier(n_estimators=300, max_depth=60, min_samples_split=3, min_samples_leaf=3)\n",
        "model2 = GradientBoostingClassifier(n_estimators=300, learning_rate=0.1, subsample=0.5, max_depth=5)\n",
        "model3 = XGBClassifier(use_label_encoder=False, eval_metric='mlogloss', n_estimators=300, learning_rate=0.01, max_depth=6, gamma=0.5, subsample=0.6)\n",
        "\n",
        "# Creating the pipeline\n",
        "pipeline1 = Pipeline([\n",
        "    ('preprocess', preprocess), # Preprocessing\n",
        "    ('classifier', model1)       # Model\n",
        "])\n",
        "\n",
        "pipeline2 = Pipeline([\n",
        "    ('preprocess', preprocess), # Preprocessing\n",
        "    ('classifier', model2)       # Model\n",
        "])\n",
        "\n",
        "pipeline3 = Pipeline([\n",
        "    ('preprocess', preprocess), # Preprocessing\n",
        "    ('classifier', model3)       # Model\n",
        "])\n",
        "\n",
        "# Fit each pipeline\n",
        "pipeline1.fit(X_train, y_train)\n",
        "pipeline2.fit(X_train, y_train)\n",
        "pipeline3.fit(X_train, y_train)\n",
        "\n",
        "# Create the ensemble model with the fitted models\n",
        "ensemble_model = VotingClassifier(estimators=[\n",
        "    ('rf', pipeline1),\n",
        "    ('gb', pipeline2),\n",
        "    ('xgb', pipeline3)\n",
        "], voting='soft')\n",
        "\n",
        "# Fit the ensemble model\n",
        "ensemble_model.fit(X_train, y_train)\n",
        "\n",
        "# Make predictions\n",
        "predictions = ensemble_model.predict(X_test)"
      ]
    },
    {
      "cell_type": "code",
      "execution_count": 27,
      "metadata": {
        "id": "UZgRfykfc6sq"
      },
      "outputs": [
        {
          "data": {
            "image/png": "[encoded data removed]",
            "text/plain": [
              "<Figure size 1200x600 with 2 Axes>"
            ]
          },
          "metadata": {},
          "output_type": "display_data"
        }
      ],
      "source": [
        "# Confusion Matrix\n",
        "cm = confusion_matrix(y_test, predictions)\n",
        "\n",
        "fig, (ax1) = plt.subplots(1, 1, figsize=(12, 6))\n",
        "\n",
        "# Plot Confusion Matrix\n",
        "sns.heatmap(cm, annot=True, fmt='d', ax=ax1)\n",
        "ax1.set_title('Confusion Matrix')\n",
        "ax1.set_xlabel('Predicted')\n",
        "ax1.set_ylabel('Actual')\n",
        "\n",
        "plt.tight_layout()\n",
        "plt.show()"
      ]
    },
    {
      "cell_type": "code",
      "execution_count": 28,
      "metadata": {
        "id": "kq2EOiTFc6su"
      },
      "outputs": [
        {
          "name": "stdout",
          "output_type": "stream",
          "text": [
            "Training Classification Report:\n",
            "              precision    recall  f1-score   support\n",
            "\n",
            "           0       0.69      0.79      0.74      7502\n",
            "           1       0.68      0.65      0.66      7501\n",
            "           2       0.71      0.60      0.65      7501\n",
            "           3       0.71      0.64      0.68      7501\n",
            "           4       0.75      0.87      0.81      7501\n",
            "\n",
            "    accuracy                           0.71     37506\n",
            "   macro avg       0.71      0.71      0.71     37506\n",
            "weighted avg       0.71      0.71      0.71     37506\n",
            "\n",
            "\n",
            "Testing Classification Report:\n",
            "              precision    recall  f1-score   support\n",
            "\n",
            "           0       0.54      0.61      0.57      3214\n",
            "           1       0.41      0.41      0.41      3215\n",
            "           2       0.42      0.35      0.38      3215\n",
            "           3       0.53      0.48      0.50      3215\n",
            "           4       0.67      0.77      0.72      3215\n",
            "\n",
            "    accuracy                           0.52     16074\n",
            "   macro avg       0.51      0.52      0.52     16074\n",
            "weighted avg       0.51      0.52      0.52     16074\n",
            "\n"
          ]
        }
      ],
      "source": [
        "# Predictions on training set\n",
        "train_predictions = ensemble_model.predict(X_train)\n",
        "\n",
        "# Classification report for training set\n",
        "train_report = classification_report(y_train, train_predictions)\n",
        "print(f\"Training Classification Report:\\n{train_report}\\n\")\n",
        "\n",
        "# Classification report for testing set\n",
        "test_report = classification_report(y_test, predictions)\n",
        "print(f\"Testing Classification Report:\\n{test_report}\")"
      ]
    }
  ],
  "metadata": {
    "colab": {
      "provenance": []
    },
    "kernelspec": {
      "display_name": "Python 3",
      "name": "python3"
    },
    "language_info": {
      "codemirror_mode": {
        "name": "ipython",
        "version": 3
      },
      "file_extension": ".py",
      "mimetype": "text/x-python",
      "name": "python",
      "nbconvert_exporter": "python",
      "pygments_lexer": "ipython3",
      "version": "3.11.2"
    }
  },
  "nbformat": 4,
  "nbformat_minor": 0
}
